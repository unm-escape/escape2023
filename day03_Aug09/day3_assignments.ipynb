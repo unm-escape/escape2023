{
 "cells": [
  {
   "cell_type": "markdown",
   "id": "c7329b5b-7128-40b8-a0a8-a1a5ddc47d9a",
   "metadata": {},
   "source": [
    "__Assignments for Day 3__ \n",
    "\n",
    "0. Implement the Half Space Cooling Model\n",
    "\n",
    "The half space cooling model is given by \n",
    "$$\\frac{T-T_0}{T_1-T_0} = \\erf\\left(\\frac{y}{2\\sqrt{\\kappa x/u}}\\right)$$\n",
    "\n",
    "In this question you will plot y as a function of t ($t=x/u$) for different isotherms $T=T_0$. \n",
    "\n",
    "a. First you will need to define the constants in this function. \n",
    "\n",
    "Let $T_1-T_0=1300$ K. \n",
    "\n",
    "Let $\\kappa=1$ mm/s$^2$. \n",
    "\n",
    "Let t go from 0 to 150 Myr. \n",
    "\n",
    "Make a list of isotherms between 200 and 1000 K with 5-10 different values. \n",
    "Define variables for all of these values and make sure you're careful with your units!\n",
    "\n",
    "_Hint: Try following the lecture convention and aim for a plot in Myr and km. If t is in Myr you will need to convert one of the values given above to different units to make sure y is in km when you plot it!_"
   ]
  },
  {
   "cell_type": "code",
   "execution_count": null,
   "id": "879ecc16-3984-415a-abf5-b61611ec2fcd",
   "metadata": {},
   "outputs": [],
   "source": []
  },
  {
   "cell_type": "markdown",
   "id": "97c83636-aa83-4f84-a85a-52f8dbf42efe",
   "metadata": {},
   "source": [
    "b. Now it's time to plot y as a function of t. You will need to rearange the equation given above. Keep in mind\n",
    "$$\\erfinv(\\erf(x)) = x$$\n",
    "\n",
    "Make a for loop where you iterate through each value in your isotherm list and plot y as a function of t for each isotherm in km and Myr. Label each line you plot with the value of the isotherm. Once you've finished this part you will see the depth of the LAB as a function of age of the oceanic lithosphere! (At least according to the Half Space Cooling Model)"
   ]
  },
  {
   "cell_type": "code",
   "execution_count": null,
   "id": "ddccc439-0ce2-4617-8ae1-bddd6d41e1e3",
   "metadata": {},
   "outputs": [],
   "source": []
  },
  {
   "cell_type": "markdown",
   "id": "669c347c-cf71-4c8d-bed0-880ed6338c24",
   "metadata": {},
   "source": [
    "1. Implement the Plate Cooling Model\n",
    "\n",
    "The plate cooling model is given by \n",
    "$$\\frac{T-T_0}{T_1-T_0}=\\frac{y}{y_{L0}} + \\frac{2}{\\pi}\\sum_{n=1}^\\infty\\frac{1}{n}\\exp\\left(-\\frac{\\kappa n^2 \\pi^2 t}{y_{L0}^2}\\right)\\sin\\left(\\frac{n\\pi y}{y_{L0}}\\right)$$\n",
    "\n",
    "a. Again we will start by defining variables for all of the constants you will need. You may notice that it is not possible to solve for y as a function of t here. Instead (in part b) we will make contour plots of $T-T_0$.\n",
    "\n",
    "Let $T_1-T_0=1300$ K. \n",
    "\n",
    "Let $\\kappa=1$ mm/s$^2$ (again, you may need to do some unit conversions here!). \n",
    "\n",
    "Let t go from 0 to 150 Myr. \n",
    "\n",
    "Let y go from 1 to 100 in km. \n",
    "\n",
    "Let $y_{L0}=95$ km"
   ]
  },
  {
   "cell_type": "code",
   "execution_count": null,
   "id": "356edbb8-affe-4037-bfb0-921fa6444f04",
   "metadata": {},
   "outputs": [],
   "source": []
  },
  {
   "cell_type": "markdown",
   "id": "4dfb4835-a247-4df1-8e16-214a7c6a195b",
   "metadata": {},
   "source": [
    "b. Now it's time to make a contour plot for $T-T_0$. It may be helpful to refer back to the preliminary Jupyter notebook to remember how to deal with functions of infinite sums and creating contour plots (don't forget np.meshgrid()).  \n",
    "\n",
    "Once you've finished this part you will have plotted the LAB depth over time according to the Plate Cooling Model!"
   ]
  },
  {
   "cell_type": "code",
   "execution_count": null,
   "id": "7526a378-5ed5-49ec-8b6b-1c26f2372dfa",
   "metadata": {},
   "outputs": [],
   "source": []
  },
  {
   "cell_type": "markdown",
   "id": "e292ed0b-b995-40ad-86c6-26d49da2cf4d",
   "metadata": {},
   "source": [
    "2. Digitize data and make a scatter plot over the Plate and Half Space cooling models.\n",
    "\n",
    "Digitize a representative sample of the blue and cyan points from Rycert et. al. (plot given in the lecture today) and download a csv for each dataset. Use pandas to get the t and y values of each data set and create a scatter plot of those points on the two plots you've made. It's ok to coppy the code you used to make the plots in the previous sections and past them down here, all you will need to add is a plt.scatter() line with your data. Make sure the data is well labeled in a legend.\n",
    "\n",
    "WARNING: The Rychert figure plots y as a function of $\\sqrt{t}$. Make sure you square your t data before plotting it!"
   ]
  },
  {
   "cell_type": "code",
   "execution_count": null,
   "id": "20c1a522-00a7-4b9e-aeb8-a37cf2ccf00a",
   "metadata": {},
   "outputs": [],
   "source": []
  }
 ],
 "metadata": {
  "kernelspec": {
   "display_name": "Python 3 (ipykernel)",
   "language": "python",
   "name": "python3"
  },
  "language_info": {
   "codemirror_mode": {
    "name": "ipython",
    "version": 3
   },
   "file_extension": ".py",
   "mimetype": "text/x-python",
   "name": "python",
   "nbconvert_exporter": "python",
   "pygments_lexer": "ipython3",
   "version": "3.8.10"
  }
 },
 "nbformat": 4,
 "nbformat_minor": 5
}
