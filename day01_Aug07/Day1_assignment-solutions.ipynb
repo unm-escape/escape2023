{
 "cells": [
  {
   "cell_type": "markdown",
   "metadata": {},
   "source": [
    "# Assignments for day 1"
   ]
  },
  {
   "cell_type": "markdown",
   "metadata": {},
   "source": [
    "This notebook contains some assignments (or puzzles) you should try to solve to improve your understanding of python and make sure you understood the things you read in the examples notebook. Some of them are harder than others, don't feel bad if the solution seems unreachable or confusing! This is all part of the learning process. If you are stuck, feel free to ask your neighbor, the instructors, google, or even a Chat AI for help. \n",
    "\n",
    "It's OK if you don't get through everything. The last assignments especially are designed to challenge you, and if they feel overwhelming now, try coming back to them in a couple days - you may be surprised how much you've learned!\n",
    "\n",
    "This assignment will not be graded and you don't need to turn it in (unless you want to)!"
   ]
  },
  {
   "cell_type": "markdown",
   "metadata": {},
   "source": [
    "### 0. Bug Assignment:"
   ]
  },
  {
   "cell_type": "code",
   "execution_count": 3,
   "metadata": {
    "tags": []
   },
   "outputs": [
    {
     "name": "stdout",
     "output_type": "stream",
     "text": [
      "I have fixed the bugs!\n"
     ]
    }
   ],
   "source": [
    "#This cell has two bugs. First run it to see the error message, then try to fix the bugs one at a time.\n",
    "\n",
    "print(\"I have fixed the bugs!\")"
   ]
  },
  {
   "cell_type": "markdown",
   "metadata": {},
   "source": [
    "### 1. Variables assignment: radians/degrees\n",
    "Create a variable called \"deg2rad\" that will convert degrees into radians whenever you multiply it by a value in degrees. For example, we want this to work correctly for any value of `number_in_degrees`:\n",
    "\n",
    "    number_in_radians = number_in_degrees * deg2rad\n",
    "\n",
    "Test your work by demonstrating that 180 degrees is equal to pi radians.\n",
    "\n",
    "Then compute 1 degree in radians, and 1 radian in degrees.\n",
    "\n",
    "Hint: radians = degrees * pi / 180 \n"
   ]
  },
  {
   "cell_type": "code",
   "execution_count": 4,
   "metadata": {
    "tags": []
   },
   "outputs": [
    {
     "name": "stdout",
     "output_type": "stream",
     "text": [
      "1.5 degrees is 0.026179938779914945 radians\n",
      "back to degrees: 1.5\n"
     ]
    }
   ],
   "source": [
    "import numpy as np\n",
    "\n",
    "# enter a number in degrees:\n",
    "number_in_degrees = 1.5\n",
    "\n",
    "#here is our conversion factor:\n",
    "deg2rad = np.pi/180\n",
    "\n",
    "# do the conversion by multiplying\n",
    "number_in_radians = number_in_degrees * deg2rad\n",
    "print(number_in_degrees, 'degrees is', number_in_radians, 'radians')\n",
    "\n",
    "# do the backwards conversion by dividing\n",
    "ndeg_again = number_in_radians / deg2rad\n",
    "print('back to degrees:',ndeg_again)"
   ]
  },
  {
   "cell_type": "markdown",
   "metadata": {},
   "source": [
    "### 2. Numbers assignment\n",
    "Write a function that will calculate the time that a signal takes to reach us from a GPS satellite, given the speed of light is roughly 3 x 10^8 meters/second. The altitude of the GPS satellite above the surface of Earth is 20,000 kilometers. \n",
    "You have the following tasks\n",
    "\n",
    "(a) Define a variable for the speed of light, using scientific notation. In python this is done with 'e'. For example, `4.34e5` is equal to 434,000\n"
   ]
  },
  {
   "cell_type": "code",
   "execution_count": 6,
   "metadata": {
    "tags": []
   },
   "outputs": [],
   "source": [
    "c = 2.99e8"
   ]
  },
  {
   "cell_type": "markdown",
   "metadata": {},
   "source": [
    "(b) Define a variable for the altitude of the GPS satellite, in meters, also using scientific notation (be careful of units here!)\n",
    "\n",
    " "
   ]
  },
  {
   "cell_type": "code",
   "execution_count": 7,
   "metadata": {
    "tags": []
   },
   "outputs": [],
   "source": [
    "h_meters = 20000*1000"
   ]
  },
  {
   "cell_type": "markdown",
   "metadata": {},
   "source": [
    " (c) Use the formula Time = Distance/Velocity, to calculate the time required by the signal to reach the Earth from the GPS satellite Assign the result to a new variable and print out the result.\n",
    "\n"
   ]
  },
  {
   "cell_type": "code",
   "execution_count": 8,
   "metadata": {
    "tags": []
   },
   "outputs": [
    {
     "name": "stdout",
     "output_type": "stream",
     "text": [
      "0.06688963210702341\n"
     ]
    }
   ],
   "source": [
    "time = h_meters/c\n",
    "print(time)"
   ]
  },
  {
   "cell_type": "markdown",
   "metadata": {},
   "source": [
    "### 3. String assignment: \n",
    "Using the altitude and travel-time variables you calculated in part 2 above, print out the time traveled by the signal as a nicely formatted sentence:\n",
    "\n",
    "    The time taken by the signal from a GPS satellite at an altitude of XXXX km to reach the Earth is X.XXXXX seconds.\n",
    "\n",
    "  TIP: to print a variable using print() use the following syntax, where %f is the place-holder for a floating point variable, given with %variable at the end of the line:\n",
    "\n",
    "\n",
    "      print ('the variable value is %f' %value) \n",
    "      \n",
    "You can use other formatting options: %s for strings, and %d for integers. If you want to include more than one variable, you can list them in parentheses:\n",
    "\n",
    "\n",
    "      print ('the first value is %f, the second is %d' %(value1,value2)) \n",
    "      \n",
    "Finally, for floating point values you can control the number of values after the decimal point with e.g. \"%.2f\" for 2 decimal values.\n",
    "\n",
    "Note, this is only one way of generating nicely formatted strings. Check out this page for (much) more information if you are interested: https://realpython.com/python-string-formatting/"
   ]
  },
  {
   "cell_type": "code",
   "execution_count": 9,
   "metadata": {
    "tags": []
   },
   "outputs": [
    {
     "name": "stdout",
     "output_type": "stream",
     "text": [
      "The time taken by the signal from a GPS satellite at an altitude of 2.0e+04 km to reach the Earth is 0.067 seconds.\n"
     ]
    }
   ],
   "source": [
    "h_km = h_meters/1000\n",
    "print('The time taken by the signal from a GPS satellite at an altitude of %.1e km to reach the Earth is %.3f seconds.' %(h_km,time))"
   ]
  },
  {
   "cell_type": "markdown",
   "metadata": {},
   "source": [
    "### 4. Expression assignment\n",
    "Define a variable, then create an expression that determines whether one computation done with that variable is larger than or smaller than another one. Your expression should return either \"True\" or \"False\" and save that value to a new variable. Then print out both the value and the type of that variable."
   ]
  },
  {
   "cell_type": "code",
   "execution_count": 10,
   "metadata": {
    "tags": []
   },
   "outputs": [
    {
     "name": "stdout",
     "output_type": "stream",
     "text": [
      "False\n",
      "<class 'bool'>\n"
     ]
    }
   ],
   "source": [
    "myvar = 1\n",
    "op1 = myvar/2\n",
    "op2 = myvar/2\n",
    "\n",
    "op1isbigger = op1!=op2\n",
    "\n",
    "print(op1isbigger)\n",
    "print(type(op1isbigger))\n"
   ]
  },
  {
   "cell_type": "markdown",
   "metadata": {},
   "source": [
    "### 5. List assignment: \n",
    "\n",
    "a. Add 'kiwi' to the following list, before 'cherry', and print out the result"
   ]
  },
  {
   "cell_type": "code",
   "execution_count": 11,
   "metadata": {
    "tags": []
   },
   "outputs": [
    {
     "name": "stdout",
     "output_type": "stream",
     "text": [
      "['apple', 'banana', 'kiwi', 'cherry']\n"
     ]
    }
   ],
   "source": [
    "thislist = [\"apple\", \"banana\", \"cherry\"]\n",
    "thislist.insert(2, \"kiwi\")\n",
    "print(thislist)"
   ]
  },
  {
   "cell_type": "markdown",
   "metadata": {},
   "source": [
    "b. Create a list containing days of the week (starting with Sunday). Create a variable called \"dayNum\" that stores an integer from 1-7, then print out that day of the week. Note that dayNum=1 should print out Sunday - you will have to deal with the zero-indexing issue of Python!"
   ]
  },
  {
   "cell_type": "code",
   "execution_count": 13,
   "metadata": {
    "tags": []
   },
   "outputs": [
    {
     "data": {
      "text/plain": [
       "'Sunday'"
      ]
     },
     "execution_count": 13,
     "metadata": {},
     "output_type": "execute_result"
    }
   ],
   "source": [
    "days=['Sunday','Monday','Tuesday','Wednesday','Thursday','Friday','Saturday']\n",
    "dayNum = 1\n",
    "days[dayNum-1]"
   ]
  },
  {
   "cell_type": "markdown",
   "metadata": {},
   "source": [
    "### 6. Array assignment: Create a 3x3 array, and print out only the middle column."
   ]
  },
  {
   "cell_type": "code",
   "execution_count": 15,
   "metadata": {
    "tags": []
   },
   "outputs": [
    {
     "name": "stdout",
     "output_type": "stream",
     "text": [
      "[[1 2 3]\n",
      " [4 5 6]\n",
      " [7 8 9]]\n",
      "the middle column is:\n",
      "[2 5 8]\n"
     ]
    }
   ],
   "source": [
    "myarray = np.array([[1,2,3],[4,5,6],[7,8,9]])\n",
    "print(myarray)\n",
    "print('the middle column is:')\n",
    "print(myarray[:,1])"
   ]
  },
  {
   "cell_type": "markdown",
   "metadata": {},
   "source": [
    "### 7. Conditionals assignment:\n",
    "Create a 2x2 numpy array, then compare the [0,0] and [1,1] elements of the array, and give a message about which is larger."
   ]
  },
  {
   "cell_type": "code",
   "execution_count": 17,
   "metadata": {
    "tags": []
   },
   "outputs": [
    {
     "name": "stdout",
     "output_type": "stream",
     "text": [
      "element [1,1] is greater than or equal to element [0,0]\n"
     ]
    }
   ],
   "source": [
    "myarray = np.array([[4,2],[4,5]])\n",
    "\n",
    "if myarray[0,0] > myarray[1,1]:\n",
    "    print(\"element [0,0] is greater than element [1,1]\")\n",
    "else:\n",
    "    print(\"element [1,1] is greater than or equal to element [0,0]\")"
   ]
  },
  {
   "cell_type": "markdown",
   "metadata": {},
   "source": [
    "### 8. Loops assignment:\n",
    "a. Create a nested for loop (two for loops inside each other) that populate the values of a 5x5 numpy array with the product of the two array index values. E.g:\n",
    "\n",
    "    myarray[i,j] = i*j\n",
    "    \n",
    "Hint: we will first need to create a blank array of size 5x5. To do this, we use the following syntax:\n",
    "\n",
    "    myarray=np.zeros((5,5))"
   ]
  },
  {
   "cell_type": "code",
   "execution_count": 18,
   "metadata": {
    "tags": []
   },
   "outputs": [
    {
     "name": "stdout",
     "output_type": "stream",
     "text": [
      "[[ 0.  0.  0.  0.  0.]\n",
      " [ 0.  1.  2.  3.  4.]\n",
      " [ 0.  2.  4.  6.  8.]\n",
      " [ 0.  3.  6.  9. 12.]\n",
      " [ 0.  4.  8. 12. 16.]]\n"
     ]
    }
   ],
   "source": [
    "myarray=np.zeros((5,5))\n",
    "\n",
    "for i in range(5):\n",
    "    for j in range(5):\n",
    "        myarray[i,j] = i*j\n",
    "        \n",
    "print(myarray)"
   ]
  },
  {
   "cell_type": "markdown",
   "metadata": {},
   "source": [
    "b. Use a while loop to keep rolling a dice, and only stop when you roll a 6. To roll a dice from 1 to 6 in python, we can use:\n",
    "\n",
    "    a = np.random.randint(1,7)\n",
    "\n",
    "**Warning**: When trying out while loops, user beware! If you cause a bug that makes it run forever, use the square \"stop\" button at the top of the page.\n",
    "\n",
    "**Note**: It's a good idea to use more informative variable names. Instead of calling your dice roll \"a\", give it a more informative name. This is a good habit to get into early on!"
   ]
  },
  {
   "cell_type": "code",
   "execution_count": 21,
   "metadata": {
    "tags": []
   },
   "outputs": [
    {
     "name": "stdout",
     "output_type": "stream",
     "text": [
      "5\n",
      "1\n",
      "2\n",
      "1\n",
      "3\n",
      "4\n",
      "6\n",
      "done\n"
     ]
    }
   ],
   "source": [
    "roll=0\n",
    "while roll != 6:\n",
    "    roll = np.random.randint(1,7)\n",
    "    print(roll)\n",
    "    \n",
    "print(\"done\")"
   ]
  },
  {
   "cell_type": "markdown",
   "metadata": {},
   "source": [
    "### 9. Functions assignment: \n",
    "With all you've learned so far, you are now able to write some more or less fully-fledged programs! Here are a few exercises to practice your function mastery. For each one, give the function a sensible name, and test it with a few different inputs to make sure it works as you expect. "
   ]
  },
  {
   "cell_type": "markdown",
   "metadata": {},
   "source": [
    "a. Write a function that accepts 2 inputs: a string, and a number. The function should use a loop to print out the input string the specified number of times. Then call the function, using your name and favorite number as the input"
   ]
  },
  {
   "cell_type": "code",
   "execution_count": 22,
   "metadata": {},
   "outputs": [
    {
     "name": "stdout",
     "output_type": "stream",
     "text": [
      "Eric\n",
      "Eric\n",
      "Eric\n",
      "Eric\n",
      "Eric\n",
      "True\n"
     ]
    }
   ],
   "source": [
    "def myFunction(mystring,mynumber):\n",
    "    if not type(mynumber) == int:\n",
    "        print(\"not an integer! silly you\")\n",
    "        return False\n",
    "    for i in range(mynumber):\n",
    "        print(mystring)\n",
    "    return True\n",
    "        \n",
    "result = myFunction('Eric',5)\n",
    "print(result)"
   ]
  },
  {
   "cell_type": "code",
   "execution_count": 93,
   "metadata": {
    "tags": []
   },
   "outputs": [
    {
     "data": {
      "text/plain": [
       "6"
      ]
     },
     "execution_count": 93,
     "metadata": {},
     "output_type": "execute_result"
    }
   ],
   "source": [
    "True."
   ]
  },
  {
   "cell_type": "markdown",
   "metadata": {},
   "source": [
    "b. Convert your answer to question 2 above into a function called \"deg2rad\" that will convert any number input in degrees to radians\n",
    "      \n",
    "Hint: to use a more exact value of \"pi\", you have to import numpy as np. Then you can use \"np.pi\"\n"
   ]
  },
  {
   "cell_type": "code",
   "execution_count": 23,
   "metadata": {},
   "outputs": [
    {
     "name": "stdout",
     "output_type": "stream",
     "text": [
      "1\n",
      "2\n"
     ]
    }
   ],
   "source": [
    "def deg2rad(deg):\n",
    "    #return deg * np.pi/180\n",
    "    return 1,2\n",
    "    \n",
    "r,s = deg2rad(180)\n",
    "print(r)\n",
    "print(s)"
   ]
  },
  {
   "cell_type": "markdown",
   "metadata": {},
   "source": [
    "c. Write a function that will convert geographic coordinates in degree (D), minute (M), second (S) to decimal degrees format (DMS to DD.DDDD)\n",
    "    \n",
    "      Hint: 1 minute = 1/60 degree, 1 second = 1/3600  degree"
   ]
  },
  {
   "cell_type": "code",
   "execution_count": 27,
   "metadata": {},
   "outputs": [
    {
     "name": "stdout",
     "output_type": "stream",
     "text": [
      "5.5\n"
     ]
    }
   ],
   "source": [
    "def dms2decimal(d,m,s):\n",
    "    return d + m/60 + s/3600\n",
    "\n",
    "print(dms2decimal(5,30,0))"
   ]
  },
  {
   "cell_type": "markdown",
   "metadata": {},
   "source": [
    "d. (Complicated!) Write a function that will input day, month, year and output day of year\n",
    "\n",
    "   Tricky: beware of leap years, which are any years that can be exactly divided by 4, but not by 100 - i.e. 2004 is a leap year but 2000 is not.\n",
    "   \n",
    "   Python has a 'modulo' function that will tell you if a number is exactly divisible: for example, try 2015 % 4, and 2016 % 4\n",
    "   "
   ]
  },
  {
   "cell_type": "code",
   "execution_count": 3,
   "metadata": {},
   "outputs": [
    {
     "name": "stdout",
     "output_type": "stream",
     "text": [
      "365\n",
      "366\n"
     ]
    }
   ],
   "source": [
    "def juliandate(year,month,day):\n",
    "    # first decide if the year is a leap year:\n",
    "    if year % 4 ==0 and year % 100 !=0:\n",
    "        isleap = True\n",
    "    else:\n",
    "        isleap = False\n",
    "    monthdays = [31,28,31,30,31,30,31,31,30,31,30,31]\n",
    "    jdate = day + sum(monthdays[:month-1])\n",
    "    if isleap and month > 2:\n",
    "        jdate = jdate + 1\n",
    "    return jdate\n",
    "\n",
    "# this test case should be 365\n",
    "print(juliandate(2015,12,31))\n",
    "\n",
    "# this test case should be 366\n",
    "print(juliandate(2020,12,31))\n"
   ]
  },
  {
   "cell_type": "markdown",
   "metadata": {},
   "source": [
    "e. Extra credit: Re-do problem d, but using the built-in python module 'datetime'. Use google to find the manual for the datetime module. You may find the code is much shorter!"
   ]
  },
  {
   "cell_type": "code",
   "execution_count": 8,
   "metadata": {},
   "outputs": [
    {
     "name": "stdout",
     "output_type": "stream",
     "text": [
      "365\n",
      "366\n"
     ]
    }
   ],
   "source": [
    "import datetime\n",
    "\n",
    "def juliandate_datetime(year,month,day):\n",
    "    date_object = datetime.datetime(year, month, day)\n",
    "    julian_date = date_object.timetuple().tm_yday\n",
    "    return julian_date\n",
    "\n",
    "# this test case should be 365\n",
    "print(juliandate_datetime(2015,12,31))\n",
    "\n",
    "# this test case should be 366\n",
    "print(juliandate_datetime(2020,12,31))\n"
   ]
  },
  {
   "cell_type": "markdown",
   "metadata": {},
   "source": [
    "### 10. Optional Assignment: modules"
   ]
  },
  {
   "cell_type": "markdown",
   "metadata": {},
   "source": [
    "Make a module that contains a function that computes distance on a sphere by implementing one of the distance algorithms from https://en.wikipedia.org/wiki/Great-circle_distance.\n",
    "\n",
    "Then import the module here, and compute the distance between Albuquerque (Lon, Lat: -106.62, 35.08) and your dream vacation destination.\n"
   ]
  },
  {
   "cell_type": "code",
   "execution_count": null,
   "metadata": {},
   "outputs": [],
   "source": []
  },
  {
   "cell_type": "markdown",
   "metadata": {},
   "source": [
    "### 11. Optional Assignment: programming challenges!\n",
    "Try a programming challenge from \n",
    "https://www.codecademy.com/resources/blog/python-code-challenges-for-beginners/, or https://pythonprinciples.com/challenges/."
   ]
  },
  {
   "cell_type": "code",
   "execution_count": null,
   "metadata": {},
   "outputs": [],
   "source": []
  }
 ],
 "metadata": {
  "kernelspec": {
   "display_name": "Python 3 (ipykernel)",
   "language": "python",
   "name": "python3"
  },
  "language_info": {
   "codemirror_mode": {
    "name": "ipython",
    "version": 3
   },
   "file_extension": ".py",
   "mimetype": "text/x-python",
   "name": "python",
   "nbconvert_exporter": "python",
   "pygments_lexer": "ipython3",
   "version": "3.10.12"
  }
 },
 "nbformat": 4,
 "nbformat_minor": 4
}
