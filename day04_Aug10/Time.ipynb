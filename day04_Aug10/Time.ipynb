{
 "cells": [
  {
   "cell_type": "markdown",
   "id": "6724d3b2",
   "metadata": {},
   "source": [
    "![](https://raw.githubusercontent.com/unm-escape/escape2022/main/header2.png)"
   ]
  },
  {
   "cell_type": "markdown",
   "id": "de0ff18c",
   "metadata": {},
   "source": [
    "<h1 style=\"text-align:center; color:#3333ff;\">Intro to Time in Python</h1>\n",
    "<br>\n",
    "<div style=\"text-align:center; font-size:16px\">\n",
    "    Earth and Planetary Sciences,<br>\n",
    "    University of New Mexico<br>\n",
    "    <br>\n",
    "    August 10th, 2023\n",
    "</div>\n",
    "\n",
    "<pre>\n",
    "\n",
    "\n",
    "\n",
    "\n",
    "</pre>"
   ]
  },
  {
   "cell_type": "markdown",
   "id": "08849574",
   "metadata": {},
   "source": [
    "![](https://encrypted-tbn0.gstatic.com/images?q=tbn:ANd9GcSw6Gm1BA31V25Rj6Ts_WUddwynR6HsgBy1Vg&usqp=CAU)\n",
    "<pre>\n",
    "\n",
    "\n",
    "\n",
    "\n",
    "</pre>\n",
    "<pre>\n",
    "\n",
    "\n",
    "\n",
    "\n",
    "</pre>"
   ]
  },
  {
   "cell_type": "markdown",
   "id": "2c01750e",
   "metadata": {},
   "source": [
    "![](https://www.noaa.gov/media/image_download/6e8e5917-6215-4248-81b2-af0759ab4d44)\n",
    "<pre>\n",
    "\n",
    "\n",
    "\n",
    "\n",
    "</pre>\n",
    "<pre>\n",
    "\n",
    "\n",
    "\n",
    "\n",
    "</pre>"
   ]
  },
  {
   "cell_type": "markdown",
   "id": "a800e9b2",
   "metadata": {},
   "source": [
    "<h1>\n",
    "    Stream discharge and Southern Oscillation Index (SOI) of the Parana River\n",
    "</h1>\n",
    "\n",
    "![](https://www.frontiersin.org/files/Articles/745912/frwa-03-745912-HTML/image_m/frwa-03-745912-g001.jpg)\n",
    "<pre>\n",
    "\n",
    "\n",
    "\n",
    "\n",
    "</pre>\n",
    "<pre>\n",
    "\n",
    "\n",
    "\n",
    "\n",
    "</pre>"
   ]
  },
  {
   "cell_type": "markdown",
   "id": "52ee153c",
   "metadata": {},
   "source": [
    "<h1>\n",
    "    2020 Beirut Port Explosion Disaster\n",
    "</h1>\n",
    "\n",
    "![](https://c.ndtvimg.com/2020-08/aao35ha4_beirut-blast-650_625x300_04_August_20.jpg)\n",
    "\n",
    "<pre>\n",
    "\n",
    "\n",
    "\n",
    "\n",
    "</pre>\n",
    "\n",
    "![](https://www.seismologie.bgr.de/sdac/erdbeben/big_quakes/beirut_200804_fig1.png)\n",
    "\n",
    "<pre>\n",
    "\n",
    "\n",
    "\n",
    "\n",
    "</pre>\n",
    "<pre>\n",
    "\n",
    "\n",
    "\n",
    "\n",
    "</pre>"
   ]
  },
  {
   "cell_type": "markdown",
   "id": "a4aa8da8",
   "metadata": {},
   "source": [
    "<h1>\n",
    "    We can tell time in two ways. \n",
    "</h1>\n",
    "<pre>\n",
    "\n",
    "\n",
    "\n",
    "\n",
    "</pre>\n",
    "<pre>\n",
    "\n",
    "\n",
    "\n",
    "\n",
    "</pre>\n",
    "<pre>\n",
    "\n",
    "\n",
    "\n",
    "\n",
    "</pre>\n",
    "<pre>\n",
    "\n",
    "\n",
    "\n",
    "\n",
    "</pre>"
   ]
  },
  {
   "cell_type": "markdown",
   "id": "f4cd7172",
   "metadata": {},
   "source": [
    "<h1>\n",
    "    Absolute Time - Date specific\n",
    "</h1>\n",
    "\n",
    "<br>\n",
    "\n",
    "![](https://www.dreamcalendars.com/printable/yearly/2024/2024-Calendar-Template.jpg)\n",
    "\n",
    "<pre>\n",
    "\n",
    "\n",
    "\n",
    "\n",
    "</pre>\n",
    "<pre>\n",
    "\n",
    "\n",
    "\n",
    "\n",
    "</pre>\n",
    "<pre>\n",
    "\n",
    "\n",
    "\n",
    "\n",
    "</pre>\n",
    "<pre>\n",
    "\n",
    "\n",
    "\n",
    "\n",
    "</pre>"
   ]
  },
  {
   "cell_type": "markdown",
   "id": "bcf4f08d",
   "metadata": {},
   "source": [
    "<h1>\n",
    "    Relative time: number of seconds, days, years, since an absolute time\n",
    "</h1>\n",
    "\n",
    "<br>\n",
    "Example: A magntide 3 earthquake in Oklahoma recorded by a dense array of seismometers.\n",
    "<br>\n",
    "\n",
    "![](https://media.springernature.com/m685/springer-static/image/art%3A10.1038%2Fs41467-018-04790-9/MediaObjects/41467_2018_4790_Fig1_HTML.jpg)\n",
    "\n",
    "\n",
    "<pre>\n",
    "\n",
    "\n",
    "\n",
    "\n",
    "</pre>\n",
    "<pre>\n",
    "\n",
    "\n",
    "\n",
    "\n",
    "</pre>\n",
    "<pre>\n",
    "\n",
    "\n",
    "\n",
    "\n",
    "</pre>\n",
    "<pre>\n",
    "\n",
    "\n",
    "\n",
    "\n",
    "</pre>"
   ]
  },
  {
   "cell_type": "markdown",
   "id": "69fe9dd0",
   "metadata": {},
   "source": [
    "<h1>\n",
    "We have tools to work with time\n",
    "</h1>\n",
    "\n",
    "[Datetime](https://docs.python.org/3/library/datetime.html) is the most popular Python library for coding time information.\n",
    "<br>\n",
    "Its modules can represent date, time, and time zone information. We'll go over the most popular uses. \n"
   ]
  },
  {
   "cell_type": "markdown",
   "id": "05715d6a",
   "metadata": {},
   "source": [
    "To begin, import the datetime library"
   ]
  },
  {
   "cell_type": "code",
   "execution_count": null,
   "id": "ff03ed00",
   "metadata": {},
   "outputs": [],
   "source": [
    "import datetime\n"
   ]
  },
  {
   "cell_type": "markdown",
   "id": "3d569d83",
   "metadata": {},
   "source": [
    "<pre>\n",
    "\n",
    "\n",
    "\n",
    "\n",
    "</pre>\n",
    "The **datetime** library has a module called **datetime** (confusing). The datetime module has many methods. Let's use the **now** method to get the current time"
   ]
  },
  {
   "cell_type": "code",
   "execution_count": null,
   "id": "4aa80ac0",
   "metadata": {},
   "outputs": [],
   "source": [
    "now = datetime.datetime.now()\n",
    "print(now)"
   ]
  },
  {
   "cell_type": "code",
   "execution_count": null,
   "id": "dedb1690",
   "metadata": {},
   "outputs": [],
   "source": [
    "print(now.tzinfo)"
   ]
  },
  {
   "cell_type": "markdown",
   "id": "ab7ac05d",
   "metadata": {},
   "source": [
    "\n",
    "Notice that this is printed in the time of your computer - probably Mountain time zone. What if you want to specify a certain timezone - such as Easter time? **pytz** is a library that can provide timezone info to datetime."
   ]
  },
  {
   "cell_type": "code",
   "execution_count": null,
   "id": "eca9487a",
   "metadata": {},
   "outputs": [],
   "source": [
    "import pytz\n",
    "eastern = pytz.timezone('US/Eastern')\n",
    "now_eastern = datetime.datetime.now(eastern)\n",
    "print(now_eastern)\n",
    "print(now_eastern.tzinfo)"
   ]
  },
  {
   "cell_type": "markdown",
   "id": "c34342f2",
   "metadata": {},
   "source": [
    "<pre>\n",
    "\n",
    "\n",
    "\n",
    "\n",
    "</pre>In scientific data analysis, we almost always prefer UTC time. "
   ]
  },
  {
   "cell_type": "code",
   "execution_count": null,
   "id": "0a7eec32",
   "metadata": {},
   "outputs": [],
   "source": [
    "utc = pytz.timezone('UTC')\n",
    "now_utc = datetime.datetime.now(utc)\n",
    "print(now_utc)"
   ]
  },
  {
   "cell_type": "markdown",
   "id": "7a313b75",
   "metadata": {},
   "source": [
    "<pre>\n",
    "\n",
    "\n",
    "\n",
    "\n",
    "</pre>What happens if we try to grab the year from the variable **now** with indexing?"
   ]
  },
  {
   "cell_type": "code",
   "execution_count": null,
   "id": "9298bc50",
   "metadata": {},
   "outputs": [],
   "source": [
    "year = now[0:4]"
   ]
  },
  {
   "cell_type": "markdown",
   "id": "f3c0ac9a",
   "metadata": {},
   "source": [
    "Why did we get this result? Use the **type()** method to find out."
   ]
  },
  {
   "cell_type": "code",
   "execution_count": null,
   "id": "b7e7e8e0",
   "metadata": {},
   "outputs": [],
   "source": []
  },
  {
   "cell_type": "markdown",
   "id": "c914b51e",
   "metadata": {},
   "source": [
    "<pre>\n",
    "\n",
    "\n",
    "\n",
    "\n",
    "</pre>datetime.date lets us turn strings into date objects"
   ]
  },
  {
   "cell_type": "code",
   "execution_count": null,
   "id": "f4cbdd63",
   "metadata": {},
   "outputs": [],
   "source": [
    "a = datetime.date(1969,12,31)\n",
    "print(a)\n",
    "print(type(a))"
   ]
  },
  {
   "cell_type": "markdown",
   "id": "94aaea0c",
   "metadata": {},
   "source": [
    "And datetime.datetime allows us to be as precise as a microsecond"
   ]
  },
  {
   "cell_type": "code",
   "execution_count": null,
   "id": "2a099daa",
   "metadata": {},
   "outputs": [],
   "source": [
    "b = datetime.datetime(1945,7,16,11,29,21,5193,tzinfo = datetime.timezone.utc)\n",
    "print(b)\n",
    "print(type(b))"
   ]
  },
  {
   "cell_type": "markdown",
   "id": "3ac424c5",
   "metadata": {},
   "source": [
    "<pre>\n",
    "\n",
    "\n",
    "\n",
    "\n",
    "</pre>How can we grab strings from datetime objects?"
   ]
  },
  {
   "cell_type": "code",
   "execution_count": null,
   "id": "f80772da",
   "metadata": {},
   "outputs": [],
   "source": [
    "print('Year =', b.year)\n",
    "print('Month =', b.month)\n",
    "print('Hour =', b.hour)\n",
    "print('Minute =', b.minute)\n",
    "print('Second =', b.second)\n",
    "print('Microsecond =', b.microsecond)\n",
    "print('Timestamp =', b.timestamp())\n",
    "print('Timezone =', b.tzinfo)"
   ]
  },
  {
   "cell_type": "markdown",
   "id": "1f53f38a",
   "metadata": {},
   "source": [
    "<br>\n",
    "<pre>\n",
    "\n",
    "\n",
    "\n",
    "\n",
    "</pre><pre>\n",
    "\n",
    "\n",
    "\n",
    "\n",
    "</pre>\n",
    "These are all examples of **absolute times (date specific)**, but what is a **timestamp**? It's the amount of seconds elapsed since the beginning of ISO 8601 time on January 1st, 1970. Let's explore this concept with the **datetime.timedelta** class."
   ]
  },
  {
   "cell_type": "code",
   "execution_count": null,
   "id": "f106fdf5",
   "metadata": {},
   "outputs": [],
   "source": [
    "# Enter your date of birth into the datetime.date method\n",
    "utc = datetime.timezone.utc\n",
    "t1 = datetime.datetime(tzinfo=utc) ## Enter your birthday within this statement\n",
    "print(\"My birthday is\",t1)\n",
    "t2 = datetime.datetime(1970,1,1,tzinfo=utc)\n",
    "print(\"ISO 8601 begins on \",t2)"
   ]
  },
  {
   "cell_type": "markdown",
   "id": "18c8d507",
   "metadata": {},
   "source": [
    "<pre>\n",
    "\n",
    "\n",
    "\n",
    "\n",
    "</pre>Were you born closer to today or the start of ISO 8601 standard?"
   ]
  },
  {
   "cell_type": "code",
   "execution_count": null,
   "id": "a47f0c84",
   "metadata": {},
   "outputs": [],
   "source": [
    "iso = t1-t2\n",
    "print('Born',iso.days, 'days after ISO')"
   ]
  },
  {
   "cell_type": "markdown",
   "id": "4a8c2f10",
   "metadata": {},
   "source": [
    "<pre>\n",
    "\n",
    "\n",
    "\n",
    "\n",
    "</pre>Try using datetime.datetime.now(utc) to find out how many days ago you were born. Compare this with the number of days since ISO 8601"
   ]
  },
  {
   "cell_type": "code",
   "execution_count": null,
   "id": "d53c4f03",
   "metadata": {},
   "outputs": [],
   "source": [
    "timenow = datetime.datetime.now(utc)\n",
    "bday = timenow-t1\n",
    "print('Born',bday.days, 'days ago')"
   ]
  },
  {
   "cell_type": "markdown",
   "id": "ddef85e2",
   "metadata": {},
   "source": [
    "<pre>\n",
    "\n",
    "\n",
    "\n",
    "\n",
    "</pre>\n",
    "What type of object is result of subtracting two times? Use **type()** to find out."
   ]
  },
  {
   "cell_type": "code",
   "execution_count": null,
   "id": "73e1a59e",
   "metadata": {},
   "outputs": [],
   "source": []
  },
  {
   "cell_type": "markdown",
   "id": "0451f2b4",
   "metadata": {},
   "source": [
    "<pre>\n",
    "\n",
    "\n",
    "\n",
    "\n",
    "</pre>We can convert datetime.timedelta objects to total seconds"
   ]
  },
  {
   "cell_type": "code",
   "execution_count": null,
   "id": "ea7e86f4",
   "metadata": {},
   "outputs": [],
   "source": [
    "print('Born',iso.total_seconds(),'seconds after ISO')\n"
   ]
  },
  {
   "cell_type": "markdown",
   "id": "7721f6c4",
   "metadata": {},
   "source": [
    "Let's compare that with the **timestamp** of your birthday"
   ]
  },
  {
   "cell_type": "code",
   "execution_count": null,
   "id": "3374f42a",
   "metadata": {},
   "outputs": [],
   "source": [
    "print(t1.timestamp())"
   ]
  },
  {
   "cell_type": "markdown",
   "id": "0aeff5ce",
   "metadata": {},
   "source": [
    "<pre>\n",
    "\n",
    "\n",
    "\n",
    "\n",
    "</pre><pre>\n",
    "\n",
    "\n",
    "\n",
    "\n",
    "</pre>\n",
    "\n",
    "![](https://encrypted-tbn0.gstatic.com/images?q=tbn:ANd9GcTug0Qm9B_0xhi2YFQ3U8XI6n4PZ8Ag-d57Gw&usqp=CAU)\n",
    "\n",
    "<br>\n",
    "\n",
    "We know the Tohoku Earthquake occured on March 11, 2011 at 5:46 UTC. Imagine you want to download data from that time and two hours afterwards. How can you easily calculate a datetime object for two hours after the event?"
   ]
  },
  {
   "cell_type": "markdown",
   "id": "32879afb",
   "metadata": {},
   "source": [
    " Create a datetime variable called eq_2after that uses datetime.deltatime"
   ]
  },
  {
   "cell_type": "code",
   "execution_count": null,
   "id": "4bf58f77",
   "metadata": {},
   "outputs": [],
   "source": [
    "eq_time = datetime.datetime(2011,3,11,5,46, tzinfo=utc)\n",
    "print(eq_time)\n",
    "## Add your variable here"
   ]
  },
  {
   "cell_type": "markdown",
   "id": "406b4232",
   "metadata": {},
   "source": [
    "<pre>\n",
    "\n",
    "\n",
    "\n",
    "\n",
    "</pre><pre>\n",
    "\n",
    "\n",
    "\n",
    "\n",
    "</pre><pre>\n",
    "\n",
    "\n",
    "\n",
    "\n",
    "</pre><h1> Plotting Datetime objects can be tricky </h1>\n",
    "<br>\n"
   ]
  },
  {
   "cell_type": "markdown",
   "id": "61f95f83",
   "metadata": {},
   "source": [
    "Here's a primer:\n",
    "Pandas can seamlessly make datetime objects from lists"
   ]
  },
  {
   "cell_type": "code",
   "execution_count": null,
   "id": "75204792",
   "metadata": {},
   "outputs": [],
   "source": [
    "import pandas as pd\n",
    "import matplotlib.pyplot as plt\n",
    "\n",
    "# This works as long as the date string is properly formatted\n",
    "date_time = ['2021-01-01', '2022-01-01', '2023-01-01']\n",
    "date_time = pd.to_datetime(date_time) \n",
    "data = [-1, 0, 1]"
   ]
  },
  {
   "cell_type": "code",
   "execution_count": null,
   "id": "9c870311",
   "metadata": {},
   "outputs": [],
   "source": [
    "df = pd.DataFrame()\n",
    "df['value'] = data\n",
    "df = df.set_index(date_time)\n"
   ]
  },
  {
   "cell_type": "code",
   "execution_count": null,
   "id": "1450e24f",
   "metadata": {},
   "outputs": [],
   "source": [
    "plt.plot(df)\n",
    "plt.gcf().autofmt_xdate() # This says that the x-axis on the current figure is datetime\n",
    "plt.show()"
   ]
  },
  {
   "cell_type": "markdown",
   "id": "a61eaf73",
   "metadata": {},
   "source": [
    "<pre>\n",
    "\n",
    "\n",
    "\n",
    "\n",
    "</pre><pre>\n",
    "\n",
    "\n",
    "\n",
    "\n",
    "</pre>\n",
    "\n",
    "<h2>\n",
    "Data that we read or write often has to be written or read as a string, not a datetime object.\n",
    "</h2>\n",
    "    \n",
    "<br>\n",
    "\n",
    "**strftime** and **strptime** will help us with this. \n",
    "\n",
    "<br>\n",
    "\n",
    "Lets start with printing datetime objects to strings."
   ]
  },
  {
   "cell_type": "code",
   "execution_count": null,
   "id": "ab1ba7eb",
   "metadata": {},
   "outputs": [],
   "source": [
    "from datetime import datetime\n",
    "# Grab the current datetime object\n",
    "now = datetime.now()\n",
    "print(now)\n"
   ]
  },
  {
   "cell_type": "code",
   "execution_count": null,
   "id": "1772b25e",
   "metadata": {},
   "outputs": [],
   "source": [
    "# The %H, %M, and %S are keys that grab hours minutes and seconds\n",
    "t = now.strftime('%H:%M:%S')  # What data type is t?\n",
    "print('Time:', t)"
   ]
  },
  {
   "cell_type": "markdown",
   "id": "41d81eb2",
   "metadata": {},
   "source": [
    "<pre>\n",
    "\n",
    "\n",
    "\n",
    "\n",
    "</pre>Now let's grab time information from a string."
   ]
  },
  {
   "cell_type": "code",
   "execution_count": null,
   "id": "6566fed3",
   "metadata": {},
   "outputs": [],
   "source": [
    "date_string = '21 August, 2023'\n",
    "print('date_string =', date_string)"
   ]
  },
  {
   "cell_type": "markdown",
   "id": "de4e4297",
   "metadata": {},
   "source": [
    "<pre>\n",
    "\n",
    "\n",
    "\n",
    "\n",
    "</pre>Now use strptime to create a date object"
   ]
  },
  {
   "cell_type": "code",
   "execution_count": null,
   "id": "450b7cc8",
   "metadata": {
    "scrolled": true
   },
   "outputs": [],
   "source": [
    "date_object = datetime.strptime(date_string, '%d %B, %Y')\n",
    "print('date_object =', date_object)"
   ]
  },
  {
   "cell_type": "markdown",
   "id": "04aa4770",
   "metadata": {},
   "source": [
    "<pre>\n",
    "\n",
    "\n",
    "\n",
    "\n",
    "</pre><pre>\n",
    "\n",
    "\n",
    "\n",
    "\n",
    "</pre><pre>\n",
    "\n",
    "\n",
    "\n",
    "\n",
    "</pre><h1> Here are some exercises for you to attempt </h1>"
   ]
  },
  {
   "cell_type": "code",
   "execution_count": null,
   "id": "e425e631",
   "metadata": {},
   "outputs": [],
   "source": [
    "from datetime import timedelta, datetime # you'll need these\n"
   ]
  },
  {
   "cell_type": "markdown",
   "id": "265b86cd",
   "metadata": {},
   "source": [
    "<pre>\n",
    "\n",
    "\n",
    "\n",
    "\n",
    "</pre><pre>\n",
    "\n",
    "\n",
    "\n",
    "\n",
    "</pre><pre>\n",
    "\n",
    "\n",
    "\n",
    "\n",
    "</pre>**Exercise #1: Convert the string \"25th of Feb 2020 at 4:26 PM\" into a datetime object**\n",
    "\n",
    "This one is tricky. You'll want to consult \"strftime() and strptime() Format Codes [here](https://docs.python.org/3/library/datetime.html#strftime-strptime-behavior)."
   ]
  },
  {
   "cell_type": "code",
   "execution_count": null,
   "id": "e30b3f5f",
   "metadata": {},
   "outputs": [],
   "source": [
    "date = '25th of Feb 2020 at 4:26 PM'"
   ]
  },
  {
   "cell_type": "markdown",
   "id": "a235589d",
   "metadata": {},
   "source": [
    "<pre>\n",
    "\n",
    "\n",
    "\n",
    "\n",
    "</pre><pre>\n",
    "\n",
    "\n",
    "\n",
    "\n",
    "</pre><pre>\n",
    "\n",
    "\n",
    "\n",
    "\n",
    "</pre>**Exercise #2: Subtract five weeks from the below datetime**"
   ]
  },
  {
   "cell_type": "code",
   "execution_count": null,
   "id": "78318ac7",
   "metadata": {},
   "outputs": [],
   "source": [
    "date = datetime(2023,10,23)\n"
   ]
  },
  {
   "cell_type": "markdown",
   "id": "bd3525de",
   "metadata": {},
   "source": [
    "<pre>\n",
    "\n",
    "\n",
    "\n",
    "\n",
    "</pre><pre>\n",
    "\n",
    "\n",
    "\n",
    "\n",
    "</pre>**Exercise #3: Print the date below in the following format**\n",
    "<br>\n",
    "Day_name Day_number Month_name Year\n",
    "<br> \n",
    "Hint: use strftime()"
   ]
  },
  {
   "cell_type": "code",
   "execution_count": null,
   "id": "c815cd62",
   "metadata": {},
   "outputs": [],
   "source": [
    "date = datetime(2023,12,6)"
   ]
  },
  {
   "cell_type": "markdown",
   "id": "755b9869",
   "metadata": {},
   "source": [
    "<pre>\n",
    "\n",
    "\n",
    "\n",
    "\n",
    "</pre><pre>\n",
    "\n",
    "\n",
    "\n",
    "\n",
    "</pre>**Exercise #4: Create a list of datetime objects that contains every day from now until the end of the course.**\n",
    "\n",
    "The ESCAPE course ends on 8/18/2023.\n",
    "\n",
    "Hint: You can do this with a for loop and Python's append()list method."
   ]
  },
  {
   "cell_type": "code",
   "execution_count": null,
   "id": "d6373dab",
   "metadata": {},
   "outputs": [],
   "source": [
    "now = datetime(2023,8,10)\n",
    "end_course = datetime(2023,8,18)\n"
   ]
  }
 ],
 "metadata": {
  "kernelspec": {
   "display_name": "Python 3 (ipykernel)",
   "language": "python",
   "name": "python3"
  },
  "language_info": {
   "codemirror_mode": {
    "name": "ipython",
    "version": 3
   },
   "file_extension": ".py",
   "mimetype": "text/x-python",
   "name": "python",
   "nbconvert_exporter": "python",
   "pygments_lexer": "ipython3",
   "version": "3.9.13"
  }
 },
 "nbformat": 4,
 "nbformat_minor": 5
}
