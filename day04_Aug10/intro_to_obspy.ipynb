{
 "cells": [
  {
   "cell_type": "markdown",
   "id": "60f4ac17",
   "metadata": {},
   "source": [
    "![](https://raw.githubusercontent.com/unm-escape/escape2022/main/header2.png)"
   ]
  },
  {
   "cell_type": "markdown",
   "id": "0636bbe0",
   "metadata": {},
   "source": [
    "<h1 style=\"text-align:center; color:#3333ff;\">Intro to ObsPy</h1>\n",
    "<br>\n",
    "<div style=\"text-align:center; font-size:16px\">\n",
    "    Earth and Planetary Sciences,<br>\n",
    "    University of New Mexico<br>\n",
    "    <br>\n",
    "    August 10, 2023\n",
    "</div>"
   ]
  },
  {
   "cell_type": "markdown",
   "id": "61c1baf3",
   "metadata": {},
   "source": [
    "# [ObsPy](https://docs.obspy.org/)\n",
    "\n",
    "ObsPy is an open-source project dedicated to provide a Python framework for processing seismological data. It provides parsers for common file formats, clients to access data centers and seismological signal processing routines which allow the manipulation of seismological time series.\n",
    "\n",
    "---\n",
    "\n",
    "**ObsPy Tutorial Outline:**\n",
    "1. Downloading station inventory\n",
    "2. Downloading earthquake catalog\n",
    "3. Downloading teleseismic earthquake seismograms<br>\n",
    "4. Downloading local earthquake seismograms\n",
    "5. Filtering waveforms\n",
    "\n",
    "\n",
    "---\n",
    "**Dependencies:** Obspy, Matplotlib, Numpy\n",
    "\n",
    "---\n",
    "\n",
    "<pre>\n",
    "\n",
    "\n",
    "\n",
    "\n",
    "</pre>\n"
   ]
  },
  {
   "cell_type": "markdown",
   "id": "81b22e2a",
   "metadata": {},
   "source": [
    "## How to install ObsPy: https://anaconda.org/conda-forge/obspy\n",
    "\n",
    "Enter this is your Anaconda Terminal: **conda install -c conda-forge obspy**\n",
    "\n",
    "![](https://i.ytimg.com/vi/kegL0pBpHsM/maxresdefault.jpg)\n"
   ]
  },
  {
   "cell_type": "markdown",
   "id": "a8211db1",
   "metadata": {},
   "source": [
    "\n",
    "## Seismologists often work with 3 kinds of data\n",
    "### We're going to learn how to download all of these kinds of data\n",
    "\n",
    "<br>\n",
    "\n",
    "![](http://www.seismo.ethz.ch/export/sites/sedsite/research-and-teaching/.galleries/img_products_software/WaveformData1.jpg_137093282.jpg)\n",
    "### (1) Waveform data - The actual data recorded by seismometers around the world \n",
    "These waveforms are maintained by a global group of seismic networks that upload their data to the web\n",
    "\n",
    "<pre>\n",
    "\n",
    "\n",
    "\n",
    "\n",
    "</pre>\n",
    "\n",
    "![](http://eqseis.geosc.psu.edu/cammon/HTML/Classes/AdvSeismo/SI/images/docs/getting_information_on_seismic_stations/5b2f20bf-823a-4845-a574-a69773e96e6f.png)\n",
    "### (2) Meta-data - Data that tell us about the seismometer\n",
    "Where it is, how many channels it has, its mechanical system properties, how quickly it samples, etc.\n",
    "\n",
    "<pre>\n",
    "\n",
    "\n",
    "\n",
    "\n",
    "</pre>\n",
    "\n",
    "\n",
    "\n",
    "\n",
    "![](https://static.temblor.net/wp-content/uploads/2022/12/gorda-usgs-1964-M6pt35.jpg)\n",
    "### (3) Earthquake Catalogs - the USGS maintains US earthquake catalogs ([ANSS Comprehensive Catalog](https://www.usgs.gov/tools/search-earthquake-catalog))\n",
    "This is a giant table that contains standardized information for recorded earthquakes from across the world. \n",
    "\n"
   ]
  },
  {
   "cell_type": "markdown",
   "id": "a872c645",
   "metadata": {},
   "source": [
    "<pre>\n",
    "\n",
    "\n",
    "\n",
    "\n",
    "</pre><pre>\n",
    "\n",
    "\n",
    "\n",
    "\n",
    "</pre><pre>\n",
    "\n",
    "\n",
    "\n",
    "\n",
    "</pre>\n",
    "## 1. Downloading station inventory"
   ]
  },
  {
   "cell_type": "markdown",
   "id": "7cd42c5d",
   "metadata": {},
   "source": [
    "ObsPy can retrieve seismic data from many different online databases globally. These databases, known as \"clients\" in the ObsPy ecosystem are coordinated by the International Federation of Digital Seismograph Networks ([FDSN](https://docs.obspy.org/packages/obspy.clients.fdsn.html)).\n",
    "\n",
    "In order to retrieve station metadata, earthquake catalogs or seismograms with ObsPy, a client object must be specified. In this tutorial we will use the IRIS webservice.\n",
    "\n",
    "More information on basic FDSN client usage can be found [here](https://docs.obspy.org/packages/obspy.clients.fdsn.html#basic-fdsn-client-usage).\n",
    "\n",
    "---"
   ]
  },
  {
   "cell_type": "markdown",
   "id": "cb4a76e0",
   "metadata": {},
   "source": [
    "<pre>\n",
    "\n",
    "\n",
    "\n",
    "\n",
    "</pre><pre>\n",
    "\n",
    "\n",
    "\n",
    "\n",
    "</pre>Let's begin by importing fdsn client package."
   ]
  },
  {
   "cell_type": "code",
   "execution_count": null,
   "id": "ad570b4e",
   "metadata": {},
   "outputs": [],
   "source": [
    "from obspy.clients.fdsn import Client as FDSN_Client"
   ]
  },
  {
   "cell_type": "markdown",
   "id": "295df2e3",
   "metadata": {},
   "source": [
    "Now we specify that we want data from the IRIS web service."
   ]
  },
  {
   "cell_type": "code",
   "execution_count": null,
   "id": "f35735c9",
   "metadata": {},
   "outputs": [],
   "source": [
    "client = FDSN_Client(\"IRIS\")\n"
   ]
  },
  {
   "cell_type": "markdown",
   "id": "f2bf7ed5",
   "metadata": {},
   "source": [
    "<pre>\n",
    "\n",
    "\n",
    "\n",
    "\n",
    "</pre><pre>\n",
    "\n",
    "\n",
    "\n",
    "\n",
    "</pre>\n",
    "## In order to download data, we need to know:\n",
    "### (1) The time interval\n",
    "### (2) The location of the seismometer or earthquake\n",
    "### (3) The type of seismometer you want to use"
   ]
  },
  {
   "cell_type": "markdown",
   "id": "0fd6dab9",
   "metadata": {},
   "source": [
    "<pre>\n",
    "\n",
    "\n",
    "\n",
    "\n",
    "</pre>\n",
    "## TIME\n",
    "\n",
    "**ObsPy uses the [UTCDateTime](https://docs.obspy.org/packages/autogen/obspy.core.utcdatetime.UTCDateTime.html) class to work with time. So we have to import the UTCDatetime package too.**\n",
    "\n",
    "UTCDateTime objects work very similarly to datetime object, but they have **nanosecond** precision and always corresponds to UTC time unless specified otherwise.\n",
    "\n"
   ]
  },
  {
   "cell_type": "code",
   "execution_count": null,
   "id": "9169fbc3",
   "metadata": {},
   "outputs": [],
   "source": [
    "from obspy import UTCDateTime"
   ]
  },
  {
   "cell_type": "markdown",
   "id": "4d91c447",
   "metadata": {},
   "source": [
    "<pre>\n",
    "\n",
    "\n",
    "\n",
    "\n",
    "</pre>\n",
    "**UTCDateTime model can handle string representations of time**"
   ]
  },
  {
   "cell_type": "code",
   "execution_count": null,
   "id": "a325f5be",
   "metadata": {},
   "outputs": [],
   "source": [
    "UTCDateTime('2023-08-10')"
   ]
  },
  {
   "cell_type": "markdown",
   "id": "4dc08715",
   "metadata": {},
   "source": [
    "<pre>\n",
    "\n",
    "\n",
    "\n",
    "\n",
    "</pre>\n",
    "**It can also take the number of seconds since the beginning of UTCDateTime**"
   ]
  },
  {
   "cell_type": "code",
   "execution_count": null,
   "id": "fd261816",
   "metadata": {},
   "outputs": [],
   "source": [
    "UTCDateTime(120)"
   ]
  },
  {
   "cell_type": "markdown",
   "id": "7fcaf319",
   "metadata": {},
   "source": [
    "\n",
    "<pre>\n",
    "\n",
    "\n",
    "\n",
    "\n",
    "</pre>\n",
    "**Let's say you know the [Tohoku, Japan](https://en.wikipedia.org/wiki/2011_T%C5%8Dhoku_earthquake_and_tsunami) earthquake occured on March 11, 2011 at 5:46:24 UTC and you eventually want to request seismic data for an entire day after that moment.** \n",
    "\n",
    "Use the UTCDateTime object to create variables that contain the start time of the earthquake and exactly one day afterwards."
   ]
  },
  {
   "cell_type": "code",
   "execution_count": null,
   "id": "f4802f78",
   "metadata": {},
   "outputs": [],
   "source": [
    "start = UTCDateTime(year = 2011, month = 3, day = 11, hour  = 5, minute = 36, second = 24)\n",
    "print(start)\n",
    "end = start + 60*60*24 \n",
    "print(end)"
   ]
  },
  {
   "cell_type": "markdown",
   "id": "fb93435c",
   "metadata": {},
   "source": [
    "<pre>\n",
    "\n",
    "\n",
    "\n",
    "\n",
    "</pre><pre>\n",
    "\n",
    "\n",
    "\n",
    "\n",
    "</pre>\n",
    "### LOCATION\n",
    "\n",
    "**How do we decide which stations to download?**\n",
    "\n",
    "Generally, seismologists use the [SEED](https://ds.iris.edu/ds/nodes/dmc/data/formats/seed/) (Standard for the Exchange of Earthquake Data) file convention.\n",
    "\n",
    "**SEED data include** \n",
    "1) A data stream - this is a data timeseries\n",
    "2) Metadata that provide all the info about the instrument\n",
    "\n",
    "\n",
    "**To request SEED data**, we need at least 4 components to specify the seismometer we'd like to interface with:\n",
    "1) Network code\n",
    "2) Station code\n",
    "3) Location ID\n",
    "4) Channel codes\n",
    "\n",
    "We can check global seismic station distribution and get the identification information from the IRIS [GMAP](https://ds.iris.edu/gmap/) tool which creates dynamic station maps that can be panned and zoomed. In this example, I retrieved network code, station code, channel codes and the location ID from the GMAP tool. The starttime and endtime depend on when the events occured."
   ]
  },
  {
   "cell_type": "markdown",
   "id": "f1d6c451",
   "metadata": {},
   "source": [
    "<pre>\n",
    "\n",
    "\n",
    "\n",
    "\n",
    "</pre>\n",
    "### We can declare the station location info and the start/end time"
   ]
  },
  {
   "cell_type": "code",
   "execution_count": null,
   "id": "e79f74e3",
   "metadata": {},
   "outputs": [],
   "source": [
    "network = 'IU'\n",
    "station = 'ANMO'\n",
    "channels = 'LH?'\n",
    "location = '00'\n",
    "\n"
   ]
  },
  {
   "cell_type": "markdown",
   "id": "9f42fe9c",
   "metadata": {},
   "source": [
    "<pre>\n",
    "\n",
    "\n",
    "\n",
    "\n",
    "</pre>\n",
    "### Then we use the *get_stations()* method to grab the metadata of a known station"
   ]
  },
  {
   "cell_type": "code",
   "execution_count": null,
   "id": "7e34e11b",
   "metadata": {},
   "outputs": [],
   "source": [
    "inventory_single = client.get_stations(network=network, station=station, channel=channels, \n",
    "                                level='response', location=location, starttime=start, \n",
    "                                endtime=end)\n"
   ]
  },
  {
   "cell_type": "markdown",
   "id": "f2978fc8",
   "metadata": {},
   "source": [
    "<pre>\n",
    "\n",
    "\n",
    "\n",
    "\n",
    "</pre>\n",
    "### The inventory object contains the station metadata"
   ]
  },
  {
   "cell_type": "code",
   "execution_count": null,
   "id": "dfaa3d8c",
   "metadata": {},
   "outputs": [],
   "source": [
    "vars(inventory_single[0])"
   ]
  },
  {
   "cell_type": "markdown",
   "id": "a1adecc6",
   "metadata": {},
   "source": [
    "\n",
    "<pre>\n",
    "\n",
    "\n",
    "\n",
    "\n",
    "</pre>\n",
    "### Or we can tell ObsPy that we want to get all the stations within a certain radius."
   ]
  },
  {
   "cell_type": "code",
   "execution_count": null,
   "id": "9dccb623",
   "metadata": {},
   "outputs": [],
   "source": [
    "lat = 35\n",
    "lon = -106.65\n",
    "radius = 5 ## This is 1 arc degree of Earth's surface ~111.32 km\n",
    "\n",
    "inventory_many = client.get_stations(level='response', location=location, starttime=start, \n",
    "                                endtime=end, latitude = lat, longitude = lon, maxradius = radius)"
   ]
  },
  {
   "cell_type": "markdown",
   "id": "3a6abe07",
   "metadata": {},
   "source": [
    "<pre>\n",
    "\n",
    "\n",
    "\n",
    "\n",
    "</pre>\n",
    "### How many networks and stations were in operation near Albuquerque during the Tohoku Earthquake?"
   ]
  },
  {
   "cell_type": "code",
   "execution_count": null,
   "id": "5bb0f111",
   "metadata": {},
   "outputs": [],
   "source": [
    "print(inventory_many)"
   ]
  },
  {
   "cell_type": "markdown",
   "id": "d1596019",
   "metadata": {},
   "source": [
    "\n",
    "<pre>\n",
    "\n",
    "\n",
    "\n",
    "\n",
    "</pre>\n",
    "### TYPE of instrument\n",
    "\n",
    "#### How can we decide which channels to use?\n",
    "\n",
    "[IRIS](https://ds.iris.edu/ds/nodes/dmc/data/formats/seed-channel-naming/) has standarized channel names that correspond to different types of seismometers and their orientation.\n",
    "\n",
    "#### This convention has 3 important codes \n",
    "(1) The Band Code corresponds to the frequency sensitivity <br>\n",
    "(2) The Instrument Code tells us what type of instrument <br>\n",
    "(3) The Orientation Code tells us the vertical and horizontal orientation"
   ]
  },
  {
   "cell_type": "markdown",
   "id": "b507a783",
   "metadata": {},
   "source": [
    "<pre>\n",
    "\n",
    "\n",
    "\n",
    "\n",
    "</pre>\n",
    "### We can quickly make a plot of our instruments' locations"
   ]
  },
  {
   "cell_type": "code",
   "execution_count": null,
   "id": "b1c04819",
   "metadata": {},
   "outputs": [],
   "source": [
    "map = inventory_many.plot('local')\n"
   ]
  },
  {
   "cell_type": "markdown",
   "id": "50e06d18",
   "metadata": {},
   "source": [
    "<pre>\n",
    "\n",
    "\n",
    "\n",
    "\n",
    "</pre>\n",
    "<pre>\n",
    "\n",
    "\n",
    "\n",
    "\n",
    "</pre>\n",
    "\n",
    "## 2. Downloading earthquake catalog"
   ]
  },
  {
   "cell_type": "markdown",
   "id": "1ec92f91",
   "metadata": {},
   "source": [
    "For this example, let's create a catalog for the 2011 [M9.0 Tohoku earthquake](https://earthquake.usgs.gov/earthquakes/eventpage/ak0219neiszm/executive).\n",
    "\n",
    "We will begin by querying the events service of the FDSN client using the [get_events](https://docs.obspy.org/packages/autogen/obspy.clients.fdsn.client.Client.get_events.html) function which returns an events catalog object."
   ]
  },
  {
   "cell_type": "code",
   "execution_count": null,
   "id": "6c3ebedf",
   "metadata": {},
   "outputs": [],
   "source": [
    "client = FDSN_Client(\"IRIS\")\n",
    "catalog = client.get_events(starttime=start, endtime=end, \n",
    "                            minmagnitude=0, latitude = 38.3, \n",
    "                            longitude=142.4,maxradius=1)"
   ]
  },
  {
   "cell_type": "code",
   "execution_count": null,
   "id": "4d6ecb4d",
   "metadata": {},
   "outputs": [],
   "source": [
    "print(catalog)"
   ]
  },
  {
   "cell_type": "markdown",
   "id": "07dde290",
   "metadata": {},
   "source": [
    "<pre>\n",
    "\n",
    "\n",
    "\n",
    "\n",
    "</pre>\n",
    "\n",
    "### ObsPy has built-in tools to help us quickly visualize the earthquakes"
   ]
  },
  {
   "cell_type": "code",
   "execution_count": null,
   "id": "5af1127e",
   "metadata": {},
   "outputs": [],
   "source": [
    "catalog.plot(projection='local', label=None);"
   ]
  },
  {
   "cell_type": "markdown",
   "id": "e45c9cb4",
   "metadata": {},
   "source": [
    "<pre>\n",
    "\n",
    "\n",
    "\n",
    "\n",
    "</pre>\n",
    "\n",
    "### How can we grab info pertaining to individual earthquakes in the catalog?"
   ]
  },
  {
   "cell_type": "markdown",
   "id": "4320149e",
   "metadata": {},
   "source": [
    "Let's take the length of the catalog object"
   ]
  },
  {
   "cell_type": "code",
   "execution_count": null,
   "id": "411c40b1",
   "metadata": {},
   "outputs": [],
   "source": [
    "print(len(catalog))"
   ]
  },
  {
   "cell_type": "markdown",
   "id": "d5a4d9a9",
   "metadata": {},
   "source": [
    "<pre>\n",
    "\n",
    "\n",
    "\n",
    "\n",
    "</pre>\n",
    "### This tells us that there is a value we can index for every earthquake in the catalog.\n",
    "\n",
    "Let's grab the first earthquake."
   ]
  },
  {
   "cell_type": "code",
   "execution_count": null,
   "id": "ce9cca5e",
   "metadata": {},
   "outputs": [],
   "source": [
    "eq1 = catalog[0]\n",
    "print(type(eq1))"
   ]
  },
  {
   "cell_type": "markdown",
   "id": "be5bacc2",
   "metadata": {},
   "source": [
    "<pre>\n",
    "\n",
    "\n",
    "\n",
    "\n",
    "</pre>\n",
    "\n",
    "### This is an obspy [event](https://docs.obspy.org/packages/autogen/obspy.core.event.event.Event.html) object.  We can grab all kinds of information about the earthquake from this event object."
   ]
  },
  {
   "cell_type": "code",
   "execution_count": null,
   "id": "76618eed",
   "metadata": {},
   "outputs": [],
   "source": [
    "print('The event is an',eq1.event_type)\n",
    "print('Its magnitude was', eq1.magnitudes[0].mag)\n",
    "print('It happened at', eq1.origins[0].depth/1000, 'kilometers below sea level')"
   ]
  },
  {
   "cell_type": "markdown",
   "id": "ee1d01c5",
   "metadata": {},
   "source": [
    "To read event(s) from file, import ObsPy's [read_events()](https://docs.obspy.org/master/packages/autogen/obspy.core.event.read_events.html) function."
   ]
  },
  {
   "cell_type": "markdown",
   "id": "13a8e6da",
   "metadata": {},
   "source": [
    "<pre>\n",
    "\n",
    "\n",
    "\n",
    "\n",
    "</pre><pre>\n",
    "\n",
    "\n",
    "\n",
    "\n",
    "</pre>\n",
    "\n",
    "## 3. Downloading earthquake seismograms"
   ]
  },
  {
   "cell_type": "markdown",
   "id": "bf6959cf",
   "metadata": {},
   "source": [
    "Lets download seismograms for the 2011 [Tohoku Earthquake](https://earthquake.usgs.gov/earthquakes/eventpage/official20110311054624120_30/origin/phase?source=official&code=official20110311054624120_30) recorded at your chosen station.\n",
    "\n"
   ]
  },
  {
   "cell_type": "markdown",
   "id": "9a6c470b",
   "metadata": {},
   "source": [
    "<pre>\n",
    "\n",
    "\n",
    "\n",
    "\n",
    "</pre>\n",
    "### First we define our Client"
   ]
  },
  {
   "cell_type": "code",
   "execution_count": null,
   "id": "7751bce2",
   "metadata": {},
   "outputs": [],
   "source": [
    "from obspy.clients.fdsn import Client as FDSN_Client\n",
    "from obspy import UTCDateTime\n",
    "\n",
    "client = FDSN_Client(\"IRIS\")\n"
   ]
  },
  {
   "cell_type": "markdown",
   "id": "e10e58f6",
   "metadata": {},
   "source": [
    "<pre>\n",
    "\n",
    "\n",
    "\n",
    "\n",
    "</pre>\n",
    "### Next we need our station location and time interval."
   ]
  },
  {
   "cell_type": "code",
   "execution_count": null,
   "id": "0efb46c6",
   "metadata": {},
   "outputs": [],
   "source": [
    "sta_lat = inventory_single[0].stations[0].latitude\n",
    "sta_lon = inventory_single[0].stations[0].longitude\n",
    "network = inventory_single[0].code\n",
    "station = inventory_single[0].stations[0].code\n",
    "location = '00' \n",
    "channel = 'BH?'\n",
    "\n",
    "tstart = start\n",
    "tend = end"
   ]
  },
  {
   "cell_type": "markdown",
   "id": "7c671b1b",
   "metadata": {},
   "source": [
    "<pre>\n",
    "\n",
    "\n",
    "\n",
    "\n",
    "</pre>\n",
    "### We request waveforms with the [client.get_waveforms()](https://docs.obspy.org/packages/autogen/obspy.clients.fdsn.client.Client.get_waveforms.html) method. This needs the station info and time interval."
   ]
  },
  {
   "cell_type": "code",
   "execution_count": null,
   "id": "c3360a37",
   "metadata": {},
   "outputs": [],
   "source": [
    "st = client.get_waveforms(network, station, location, channel, tstart, tend)\n",
    "print(st)"
   ]
  },
  {
   "cell_type": "markdown",
   "id": "2e13c8ed",
   "metadata": {},
   "source": [
    "<pre>\n",
    "\n",
    "\n",
    "\n",
    "\n",
    "</pre>\n",
    "### The output data type is called a [***stream***](https://docs.obspy.org/packages/autogen/obspy.core.stream.Stream.html), which contains traces of data for every channel and metadata that tells us how the instrument recorded the data.\n",
    "\n",
    "<br>\n",
    "\n",
    "### Let's plot a whole day of seismic data! We can do this with the stream object's plot() method"
   ]
  },
  {
   "cell_type": "code",
   "execution_count": null,
   "id": "cd093e0c",
   "metadata": {},
   "outputs": [],
   "source": [
    "whole_day = st.plot()"
   ]
  },
  {
   "cell_type": "markdown",
   "id": "60b3723a",
   "metadata": {},
   "source": [
    "<pre>\n",
    "\n",
    "\n",
    "\n",
    "\n",
    "</pre>\n",
    "### Let's window the data so we only see 3 hours of data after the event origin time."
   ]
  },
  {
   "cell_type": "code",
   "execution_count": null,
   "id": "fbcd51c4",
   "metadata": {},
   "outputs": [],
   "source": [
    "short = st.copy()\n",
    "short = short.trim(endtime = start + 3*60*60)\n",
    "short.plot().show"
   ]
  },
  {
   "cell_type": "markdown",
   "id": "ca1ff193",
   "metadata": {},
   "source": [
    "<pre>\n",
    "\n",
    "\n",
    "\n",
    "\n",
    "</pre>\n",
    "\n",
    "### Because our recording starts at the approximate origin time, we know it took ~22 minutes for the first energy of the Tohoku earthquake to reach Albuquerque. \n",
    "<br>\n",
    "\n",
    "#### What units are we looking at? Raw seismic data are downloaded as [***counts***](https://ds.iris.edu/ds/support/faq/6/what-is-a-count-in-timeseries-data/). We need to use a build-in mathematical function to convert ***counts*** to displacement, velocity, or acceleration. \n"
   ]
  },
  {
   "cell_type": "markdown",
   "id": "b57966b0",
   "metadata": {},
   "source": [
    "\n",
    "<pre>\n",
    "\n",
    "\n",
    "\n",
    "\n",
    "</pre><pre>\n",
    "\n",
    "\n",
    "\n",
    "\n",
    "</pre>\n",
    "## Seismic waves contain a combination of many different frequency waves. \n",
    "\n",
    "### We can visualize this with a plot called a [***spectrogram***](https://docs.obspy.org/packages/autogen/obspy.core.stream.Stream.spectrogram.html)"
   ]
  },
  {
   "cell_type": "code",
   "execution_count": null,
   "id": "b788c4a0",
   "metadata": {},
   "outputs": [],
   "source": [
    "spec = st[0].spectrogram()"
   ]
  },
  {
   "cell_type": "code",
   "execution_count": null,
   "id": "fee40690",
   "metadata": {},
   "outputs": [],
   "source": [
    "spec = st[0].spectrogram(dbscale=True)\n"
   ]
  },
  {
   "cell_type": "markdown",
   "id": "b792d5e7",
   "metadata": {},
   "source": [
    "<pre>\n",
    "\n",
    "\n",
    "\n",
    "\n",
    "</pre><pre>\n",
    "\n",
    "\n",
    "\n",
    "\n",
    "</pre>\n",
    "## Now, let's grab a local earthquake in Albuquerque on the same station. "
   ]
  },
  {
   "cell_type": "code",
   "execution_count": null,
   "id": "dbc23148",
   "metadata": {},
   "outputs": [],
   "source": [
    "client = FDSN_Client(\"IRIS\")\n",
    "start = UTCDateTime(year=2023,month = 1,day=1)\n",
    "end = UTCDateTime.now()\n",
    "\n",
    "catalog = client.get_events(starttime=start, endtime=end, \n",
    "                            minmagnitude=0, latitude = sta_lat, \n",
    "                            longitude=sta_lon,maxradius=1)"
   ]
  },
  {
   "cell_type": "code",
   "execution_count": null,
   "id": "8a3b463b",
   "metadata": {},
   "outputs": [],
   "source": [
    "print(catalog)\n",
    "\n",
    "\n",
    "fig = inventory_single.plot(show=False, projection='local')  \n",
    "\n",
    "plt = catalog.plot(fig=fig, projection='local')  \n"
   ]
  },
  {
   "cell_type": "markdown",
   "id": "1adeeafd",
   "metadata": {},
   "source": [
    "<pre>\n",
    "\n",
    "\n",
    "\n",
    "\n",
    "</pre>\n",
    "### Imagine we want to grab data for ~2 minutes after the first earthquake occurs. <br>\n",
    "\n",
    "We need to know when the earthquake occured. \n",
    "\n"
   ]
  },
  {
   "cell_type": "code",
   "execution_count": null,
   "id": "38d976d1",
   "metadata": {},
   "outputs": [],
   "source": [
    "teq = catalog[0].origins[0].time\n",
    "teq_end = teq + 2*60\n"
   ]
  },
  {
   "cell_type": "code",
   "execution_count": null,
   "id": "b5832195",
   "metadata": {},
   "outputs": [],
   "source": [
    "st = client.get_waveforms(network, station, location, channel, teq, teq_end)"
   ]
  },
  {
   "cell_type": "code",
   "execution_count": null,
   "id": "c17c1b0f",
   "metadata": {},
   "outputs": [],
   "source": [
    "local_event = st.plot()"
   ]
  },
  {
   "cell_type": "markdown",
   "id": "e36765cc",
   "metadata": {},
   "source": [
    "<pre>\n",
    "\n",
    "\n",
    "\n",
    "\n",
    "</pre>\n",
    "### Take the spectrogram of this event"
   ]
  },
  {
   "cell_type": "code",
   "execution_count": null,
   "id": "77a291c7",
   "metadata": {},
   "outputs": [],
   "source": [
    "spec = st.spectrogram()"
   ]
  },
  {
   "cell_type": "markdown",
   "id": "787b72f2",
   "metadata": {},
   "source": [
    "<pre>\n",
    "\n",
    "\n",
    "\n",
    "\n",
    "</pre>\n",
    "### We can remove waves of certain frequencies by [***filtering***](https://docs.obspy.org/packages/autogen/obspy.core.stream.Stream.filter.html). \n",
    "\n",
    "#### Common kinds of filters are low-pass, band-pass, and high-pass. Let's do a high pass and low pass of 0.25 Hz and see what we get. \n",
    "\n"
   ]
  },
  {
   "cell_type": "code",
   "execution_count": null,
   "id": "8ea30b6e",
   "metadata": {
    "scrolled": true
   },
   "outputs": [],
   "source": [
    "low = st[2].copy().filter('lowpass', freq = 1)\n",
    "high = st[2].copy().filter('highpass', freq = 1)\n",
    "low_fig = low.plot()\n",
    "high_fig = high.plot()"
   ]
  },
  {
   "cell_type": "markdown",
   "id": "b42a88b6",
   "metadata": {},
   "source": [
    "<pre>\n",
    "\n",
    "\n",
    "\n",
    "\n",
    "</pre>\n",
    "### What if we don't  have a good idea of how long it will take for the earthquake to arrive at our station?\n",
    "\n",
    "#### We can use something called a [Tau-P model](https://docs.obspy.org/packages/obspy.taup.html). This is a prediction for how long it should take for certain earthquake phases to arrive with a very simple Earth velocity. \n",
    "\n",
    "#### To do this, we only need to know the distance between the earthquake and the station, the earthquake's depth, and the phase."
   ]
  },
  {
   "cell_type": "code",
   "execution_count": null,
   "id": "cf7ae1b5",
   "metadata": {},
   "outputs": [],
   "source": [
    "## import modules for calculating TauPy and distance on the Earth's surface.\n",
    "from obspy.taup import TauPyModel\n",
    "from obspy.geodetics import gps2dist_azimuth, kilometer2degrees\n",
    "\n",
    "## Define Earth's velocity model for TauP\n",
    "tpmodel = TauPyModel(model='iasp91')"
   ]
  },
  {
   "cell_type": "markdown",
   "id": "6895c280",
   "metadata": {},
   "source": [
    "<pre>\n",
    "\n",
    "\n",
    "\n",
    "\n",
    "</pre>\n",
    "### We can grab an earthquake's position from the catalog"
   ]
  },
  {
   "cell_type": "code",
   "execution_count": null,
   "id": "7192e1ff",
   "metadata": {},
   "outputs": [],
   "source": [
    "## First, grab the earthquake's position.\n",
    "eq_lat = catalog[0].origins[0].latitude\n",
    "eq_lon = catalog[0].origins[0].longitude\n",
    "eq_dep = catalog[0].origins[0].depth/1000\n"
   ]
  },
  {
   "cell_type": "code",
   "execution_count": null,
   "id": "bb417b4e",
   "metadata": {
    "scrolled": true
   },
   "outputs": [],
   "source": [
    "### Now, use the distance functions and Tau-P model to estimate the P-wave arrival time.\n",
    "epi_dist_m, az, baz = gps2dist_azimuth(eq_lat, eq_lon, sta_lat, sta_lon)\n",
    "\n",
    "epi_dist_km = epi_dist_m/1000\n",
    "epi_dist_deg = kilometer2degrees(epi_dist_km)\n",
    "arrivals = tpmodel.get_travel_times(distance_in_degree=epi_dist_deg, source_depth_in_km=eq_dep, phase_list=['P'])\n",
    "print(arrivals[0].time)"
   ]
  },
  {
   "cell_type": "markdown",
   "id": "50810357",
   "metadata": {},
   "source": [
    "<pre>\n",
    "\n",
    "\n",
    "\n",
    "\n",
    "</pre>\n",
    "## Let's see how close the P-onset appears to be compared to this modeled arrival. "
   ]
  },
  {
   "cell_type": "code",
   "execution_count": null,
   "id": "6c7360ae",
   "metadata": {},
   "outputs": [],
   "source": [
    "\n",
    "fig = st[2].plot(show=False, handle=True)\n",
    "\n",
    "import matplotlib.pyplot as plt\n",
    "\n",
    "ax = fig.axes[0]\n",
    "ax.axvline(teq+arrivals[0].time, ymin = -40000, ymax = 40000)\n",
    "plt.show()"
   ]
  },
  {
   "cell_type": "markdown",
   "id": "e5bad88b",
   "metadata": {},
   "source": [
    "<pre>\n",
    "\n",
    "\n",
    "\n",
    "\n",
    "</pre><pre>\n",
    "\n",
    "\n",
    "\n",
    "\n",
    "</pre>\n",
    "## You have two major tasks.\n",
    "### (1) Plot a global map of all earthquakes that occured on your birthday.  \n",
    "Grab the largest earthquake that occured on your brithday. <br> Download the data on a station of your choice. <br> If you can't find the event, you might try a different station, closer to the epicenter. <br> Plot the event and its spectrogram. <br> Explore different channels and filtering (remember to copy the stream before filtering). \n",
    "### (2) Plot the seismic network and earthquakes near your place of birth. \n",
    "Grab an inventory of all seismometers in operation since 1970. Plot it. <br>\n",
    "Grab a catalog of all earthquakes in this area since 1970. Plot it. <br>\n",
    "Grab the largest earthquake near your hometown since 1970. Download the waveform data for a station of your choice. Plot and filter the data for this largest earthquake."
   ]
  },
  {
   "cell_type": "code",
   "execution_count": null,
   "id": "c5a589b7",
   "metadata": {},
   "outputs": [],
   "source": []
  },
  {
   "cell_type": "markdown",
   "id": "c8c2e14e",
   "metadata": {},
   "source": [
    "<pre>\n",
    "\n",
    "\n",
    "\n",
    "\n",
    "</pre><pre>\n",
    "\n",
    "\n",
    "\n",
    "\n",
    "</pre>\n",
    "\n",
    "## There are tons of things you can do with ObsPy for an final project. Just let us know what interests you can we can guide you to the right tools. \n",
    "### You could explore earthquake statistics in earthquake catalogs\n",
    "![](https://www.researchgate.net/publication/281368240/figure/fig3/AS:279767048835082@1443713070722/Cumulative-seismic-moment-release-and-number-of-earthquakes-by-day-modified-from-Pedrera.png)\n",
    "<pre>\n",
    "\n",
    "\n",
    "\n",
    "\n",
    "</pre>\n",
    "\n",
    "### You could estimate the local magnitude of a couple events and compare with their catalog magnitudes. \n",
    "![](https://opentextbc.ca/physicalgeology2ed/wp-content/uploads/sites/298/2019/06/P-and-S-waves.png)\n",
    "<pre>\n",
    "\n",
    "\n",
    "\n",
    "\n",
    "</pre>\n",
    "\n",
    "### You could look at seasonal variations in seismic background noise using long-term spectrograms. \n",
    "![](https://www.seismosoc.org/Publications/BSSA_html/bssa_104-6/2014079-esupp/2014079_esupp_Figure_S3.png)"
   ]
  },
  {
   "cell_type": "code",
   "execution_count": null,
   "id": "6f3084da",
   "metadata": {},
   "outputs": [],
   "source": []
  }
 ],
 "metadata": {
  "kernelspec": {
   "display_name": "obspy",
   "language": "python",
   "name": "obspy"
  },
  "language_info": {
   "codemirror_mode": {
    "name": "ipython",
    "version": 3
   },
   "file_extension": ".py",
   "mimetype": "text/x-python",
   "name": "python",
   "nbconvert_exporter": "python",
   "pygments_lexer": "ipython3",
   "version": "3.11.4"
  }
 },
 "nbformat": 4,
 "nbformat_minor": 5
}
